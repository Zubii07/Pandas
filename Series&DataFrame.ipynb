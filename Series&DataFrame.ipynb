{
 "cells": [
  {
   "cell_type": "markdown",
   "id": "5983f9cd",
   "metadata": {},
   "source": [
    "## Pandas\n",
    "  Pandas is a Python library used for working with data sets.It has functions for analyzing, cleaning, exploring, and manipulating data.\n",
    "\n",
    "## Key Structures:\n",
    "    series\n",
    "    DataFrame"
   ]
  },
  {
   "cell_type": "markdown",
   "id": "ed7b0b52",
   "metadata": {},
   "source": []
  },
  {
   "cell_type": "code",
   "execution_count": 3,
   "id": "3a20a3d5",
   "metadata": {},
   "outputs": [
    {
     "name": "stdout",
     "output_type": "stream",
     "text": [
      "0    1\n",
      "1    7\n",
      "2    2\n",
      "dtype: int64\n",
      "x    1\n",
      "y    7\n",
      "z    2\n",
      "dtype: int64\n"
     ]
    }
   ],
   "source": [
    "#A Pandas Series is like a column in a table.It is a one-dimensional array holding data of any type\n",
    "\n",
    "\n",
    "import pandas as pd\n",
    "\n",
    "a = [1, 7, 2]\n",
    "\n",
    "myvar = pd.Series(a)\n",
    "\n",
    "print(myvar)\n",
    "\n",
    "# With the index argument, you can name your own labels.\n",
    "myvar = pd.Series(a, index=[\"x\", \"y\", \"z\"])\n",
    "print(myvar)"
   ]
  },
  {
   "cell_type": "code",
   "execution_count": 4,
   "id": "849d817d",
   "metadata": {},
   "outputs": [
    {
     "name": "stdout",
     "output_type": "stream",
     "text": [
      "   names  ages\n",
      "0    Ali    24\n",
      "1  Ahmad    13\n",
      "2   Sara    53\n",
      "3   Zara    33\n"
     ]
    }
   ],
   "source": [
    "# DataFrame: A Pandas DataFrame is a 2 dimensional data structure, like a 2 dimensional array, or a table with rows and columns.\n",
    "\n",
    "\n",
    "df = pd.DataFrame({\"names\": [\"Ali\", \"Ahmad\", \"Sara\", \"Zara\"],\n",
    "                   \"ages\": [24, 13, 53, 33]})\n",
    "print(df)"
   ]
  },
  {
   "cell_type": "code",
   "execution_count": null,
   "id": "73f43cf0",
   "metadata": {},
   "outputs": [
    {
     "name": "stdout",
     "output_type": "stream",
     "text": [
      "                         Industry\n",
      "0              Accounting/Finance\n",
      "1    Advertising/Public Relations\n",
      "2              Aerospace/Aviation\n",
      "3   Arts/Entertainment/Publishing\n",
      "4                      Automotive\n",
      "5                Banking/Mortgage\n",
      "6            Business Development\n",
      "7            Business Opportunity\n",
      "8         Clerical/Administrative\n",
      "9         Construction/Facilities\n",
      "10                 Consumer Goods\n",
      "11               Customer Service\n",
      "12             Education/Training\n",
      "13               Energy/Utilities\n",
      "14                    Engineering\n",
      "15            Government/Military\n",
      "16                          Green\n",
      "17                     Healthcare\n",
      "18             Hospitality/Travel\n",
      "19                Human Resources\n",
      "20       Installation/Maintenance\n",
      "21                      Insurance\n",
      "22                       Internet\n",
      "23                Job Search Aids\n",
      "24       Law Enforcement/Security\n",
      "25                          Legal\n",
      "26           Management/Executive\n",
      "27       Manufacturing/Operations\n",
      "28                      Marketing\n",
      "29           Non-Profit/Volunteer\n",
      "30         Pharmaceutical/Biotech\n",
      "31          Professional Services\n",
      "32             QA/Quality Control\n",
      "33                    Real Estate\n",
      "34        Restaurant/Food Service\n",
      "35                         Retail\n",
      "36                          Sales\n",
      "37               Science/Research\n",
      "38                  Skilled Labor\n",
      "39                     Technology\n",
      "40             Telecommunications\n",
      "41       Transportation/Logistics\n",
      "42                          Other\n"
     ]
    },
    {
     "data": {
      "text/html": [
       "<div>\n",
       "<style scoped>\n",
       "    .dataframe tbody tr th:only-of-type {\n",
       "        vertical-align: middle;\n",
       "    }\n",
       "\n",
       "    .dataframe tbody tr th {\n",
       "        vertical-align: top;\n",
       "    }\n",
       "\n",
       "    .dataframe thead th {\n",
       "        text-align: right;\n",
       "    }\n",
       "</style>\n",
       "<table border=\"1\" class=\"dataframe\">\n",
       "  <thead>\n",
       "    <tr style=\"text-align: right;\">\n",
       "      <th></th>\n",
       "      <th>Industry</th>\n",
       "    </tr>\n",
       "  </thead>\n",
       "  <tbody>\n",
       "    <tr>\n",
       "      <th>38</th>\n",
       "      <td>Skilled Labor</td>\n",
       "    </tr>\n",
       "    <tr>\n",
       "      <th>39</th>\n",
       "      <td>Technology</td>\n",
       "    </tr>\n",
       "    <tr>\n",
       "      <th>40</th>\n",
       "      <td>Telecommunications</td>\n",
       "    </tr>\n",
       "    <tr>\n",
       "      <th>41</th>\n",
       "      <td>Transportation/Logistics</td>\n",
       "    </tr>\n",
       "    <tr>\n",
       "      <th>42</th>\n",
       "      <td>Other</td>\n",
       "    </tr>\n",
       "  </tbody>\n",
       "</table>\n",
       "</div>"
      ],
      "text/plain": [
       "                    Industry\n",
       "38             Skilled Labor\n",
       "39                Technology\n",
       "40        Telecommunications\n",
       "41  Transportation/Logistics\n",
       "42                     Other"
      ]
     },
     "execution_count": 7,
     "metadata": {},
     "output_type": "execute_result"
    }
   ],
   "source": [
    "## Read Data from a CSV file\n",
    "\n",
    "df = pd.read_csv(\"data/industry.csv\")\n",
    "print(df)\n",
    "\n"
   ]
  },
  {
   "cell_type": "code",
   "execution_count": null,
   "id": "47650f9d",
   "metadata": {},
   "outputs": [],
   "source": [
    "df.head()  # Display the first 5 rows of the DataFrame\n",
    "\n"
   ]
  },
  {
   "cell_type": "code",
   "execution_count": 8,
   "id": "20a11b76",
   "metadata": {},
   "outputs": [
    {
     "data": {
      "text/html": [
       "<div>\n",
       "<style scoped>\n",
       "    .dataframe tbody tr th:only-of-type {\n",
       "        vertical-align: middle;\n",
       "    }\n",
       "\n",
       "    .dataframe tbody tr th {\n",
       "        vertical-align: top;\n",
       "    }\n",
       "\n",
       "    .dataframe thead th {\n",
       "        text-align: right;\n",
       "    }\n",
       "</style>\n",
       "<table border=\"1\" class=\"dataframe\">\n",
       "  <thead>\n",
       "    <tr style=\"text-align: right;\">\n",
       "      <th></th>\n",
       "      <th>Industry</th>\n",
       "    </tr>\n",
       "  </thead>\n",
       "  <tbody>\n",
       "    <tr>\n",
       "      <th>38</th>\n",
       "      <td>Skilled Labor</td>\n",
       "    </tr>\n",
       "    <tr>\n",
       "      <th>39</th>\n",
       "      <td>Technology</td>\n",
       "    </tr>\n",
       "    <tr>\n",
       "      <th>40</th>\n",
       "      <td>Telecommunications</td>\n",
       "    </tr>\n",
       "    <tr>\n",
       "      <th>41</th>\n",
       "      <td>Transportation/Logistics</td>\n",
       "    </tr>\n",
       "    <tr>\n",
       "      <th>42</th>\n",
       "      <td>Other</td>\n",
       "    </tr>\n",
       "  </tbody>\n",
       "</table>\n",
       "</div>"
      ],
      "text/plain": [
       "                    Industry\n",
       "38             Skilled Labor\n",
       "39                Technology\n",
       "40        Telecommunications\n",
       "41  Transportation/Logistics\n",
       "42                     Other"
      ]
     },
     "execution_count": 8,
     "metadata": {},
     "output_type": "execute_result"
    }
   ],
   "source": [
    "df.tail()  # Display the last 5 rows of the DataFrame"
   ]
  },
  {
   "cell_type": "code",
   "execution_count": 9,
   "id": "2d66f9e6",
   "metadata": {},
   "outputs": [
    {
     "name": "stdout",
     "output_type": "stream",
     "text": [
      "<class 'pandas.core.frame.DataFrame'>\n",
      "RangeIndex: 43 entries, 0 to 42\n",
      "Data columns (total 1 columns):\n",
      " #   Column    Non-Null Count  Dtype \n",
      "---  ------    --------------  ----- \n",
      " 0   Industry  43 non-null     object\n",
      "dtypes: object(1)\n",
      "memory usage: 476.0+ bytes\n"
     ]
    }
   ],
   "source": [
    "df.info()  # Display a concise summary of the DataFrame"
   ]
  },
  {
   "cell_type": "code",
   "execution_count": null,
   "id": "e3bd3560",
   "metadata": {},
   "outputs": [],
   "source": []
  }
 ],
 "metadata": {
  "kernelspec": {
   "display_name": ".venv",
   "language": "python",
   "name": "python3"
  },
  "language_info": {
   "codemirror_mode": {
    "name": "ipython",
    "version": 3
   },
   "file_extension": ".py",
   "mimetype": "text/x-python",
   "name": "python",
   "nbconvert_exporter": "python",
   "pygments_lexer": "ipython3",
   "version": "3.13.3"
  }
 },
 "nbformat": 4,
 "nbformat_minor": 5
}
