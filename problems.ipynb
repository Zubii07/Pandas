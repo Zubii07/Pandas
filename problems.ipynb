{
 "cells": [
  {
   "cell_type": "code",
   "execution_count": 3,
   "id": "c28880fd",
   "metadata": {},
   "outputs": [
    {
     "name": "stdout",
     "output_type": "stream",
     "text": [
      "    Name   Age      City\n",
      "0  Alice  25.0  New York\n",
      "1    Bob   NaN      None\n",
      "      Name   Age\n",
      "0    Alice  25.0\n",
      "1      Bob   NaN\n",
      "2  Charlie  35.0\n",
      "3    David   NaN\n",
      "4   Edward  45.0\n"
     ]
    }
   ],
   "source": [
    "# Create a DataFrame using the following data:\n",
    "# Display the first two rows of the DataFrame.\n",
    "# Select only the Name and Age columns.\n",
    "\n",
    "import pandas as pd\n",
    "\n",
    "df = pd.DataFrame({'Name': ['Alice', 'Bob', 'Charlie', 'David', 'Edward'],\n",
    "        'Age': [25, None, 35, None, 45],\n",
    "        'City': ['New York', None, 'Chicago', 'Houston', 'Phoenix']})\n",
    "\n",
    "print(df.head(2))\n",
    "print(df[['Name', 'Age']])"
   ]
  },
  {
   "cell_type": "code",
   "execution_count": 5,
   "id": "0e4f7063",
   "metadata": {},
   "outputs": [
    {
     "name": "stdout",
     "output_type": "stream",
     "text": [
      "0    25.0\n",
      "1    35.0\n",
      "2    35.0\n",
      "3    35.0\n",
      "4    45.0\n",
      "Name: Age, dtype: float64\n",
      "      Name   Age      City\n",
      "0    Alice  25.0  New York\n",
      "2  Charlie  35.0   Chicago\n",
      "3    David   NaN   Houston\n",
      "4   Edward  45.0   Phoenix\n"
     ]
    }
   ],
   "source": [
    "## Data Cleaning: \n",
    "'''Create a DataFrame with missing values:\n",
    "   Fill the missing Age values with the mean of the column.\n",
    "   Drop any rows with missing City values.\n",
    "'''\n",
    "df = pd.DataFrame({'Name': ['Alice', 'Bob', 'Charlie', 'David', 'Edward'],\n",
    "        'Age': [25, None, 35, None, 45],\n",
    "        'City': ['New York', None, 'Chicago', 'Houston', 'Phoenix']})\n",
    "\n",
    "print(df['Age'].fillna(df['Age'].mean()))\n",
    "print(df.dropna(subset=['City']))\n"
   ]
  },
  {
   "cell_type": "code",
   "execution_count": 6,
   "id": "0bb74d36",
   "metadata": {},
   "outputs": [
    {
     "name": "stdout",
     "output_type": "stream",
     "text": [
      "      Name  Age     City\n",
      "2  Charlie   35  Chicago\n",
      "3    David   40  Houston\n",
      "4   Edward   45  Phoenix\n",
      "      Name  Age     City\n",
      "2  Charlie   35  Chicago\n",
      "4   Edward   45  Phoenix\n"
     ]
    }
   ],
   "source": [
    "## Data Filtering:\n",
    "'''Filter all rows where Age is greater than 30.\n",
    "Filter all rows where City is either \"Chicago\" or \"Phoenix\".\n",
    "'''\n",
    "\n",
    "df = pd.DataFrame({'Name': ['Alice', 'Bob', 'Charlie', 'David', 'Edward'],\n",
    "        'Age': [25, 30, 35, 40, 45],\n",
    "        'City': ['New York', 'Los Angeles', 'Chicago', 'Houston', 'Phoenix']})\n",
    "print(df[df['Age'] > 30])\n",
    "print(df[df['City'].isin(['Chicago', 'Phoenix'])])"
   ]
  },
  {
   "cell_type": "code",
   "execution_count": null,
   "id": "800e4a11",
   "metadata": {},
   "outputs": [
    {
     "name": "stdout",
     "output_type": "stream",
     "text": [
      "      Name  Age         City\n",
      "0   Edward   45      Phoenix\n",
      "1    David   40      Houston\n",
      "2  Charlie   35      Chicago\n",
      "3      Bob   30  Los Angeles\n",
      "4    Alice   25     New York\n"
     ]
    }
   ],
   "source": [
    "# Sort and Indexing:\n",
    "''' Sort the DataFrame by Age in descending order.\n",
    "Reset the index after sorting.\n",
    "'''\n",
    "import pandas as pd\n",
    "df  = pd.DataFrame({'Name': ['Alice', 'Bob', 'Charlie', 'David', 'Edward'],\n",
    "        'Age': [25, 30, 35, 40, 45],\n",
    "        'City': ['New York', 'Los Angeles', 'Chicago', 'Houston', 'Phoenix']})\n",
    "\n",
    "df_sorted = df.sort_values(by='Age', ascending=False)\n",
    "print(df_sorted.reset_index(drop=True))"
   ]
  },
  {
   "cell_type": "code",
   "execution_count": 3,
   "id": "d964b660",
   "metadata": {},
   "outputs": [
    {
     "name": "stdout",
     "output_type": "stream",
     "text": [
      "  Department   Age\n",
      "0    Finance  42.5\n",
      "1         HR  25.0\n",
      "2         IT  32.5\n"
     ]
    }
   ],
   "source": [
    "\"\"\"Create a DataFrame and Group the DataFrame by the Department column and calculate the mean Age in each department.\n",
    "\"\"\"\n",
    "df = pd.DataFrame({'Name': ['Alice', 'Bob', 'Charlie', 'David', 'Edward'],\n",
    "        'Age': [25, 30, 35, 40, 45],\n",
    "        'City': ['New York', 'Los Angeles', 'Chicago', 'Houston', 'Phoenix'],\n",
    "        'Department': ['HR', 'IT', 'IT', 'Finance', 'Finance']})\n",
    "\n",
    "grouped_df = df.groupby('Department')['Age'].mean().reset_index()\n",
    "print(grouped_df)"
   ]
  },
  {
   "cell_type": "code",
   "execution_count": 7,
   "id": "9fdc76da",
   "metadata": {},
   "outputs": [
    {
     "name": "stdout",
     "output_type": "stream",
     "text": [
      "      Name  Age  Salary  Salary_in_thousands  Age_10_years\n",
      "0    Alice   25   50000                 50.0            35\n",
      "1      Bob   30   60000                 60.0            40\n",
      "2  Charlie   35   70000                 70.0            45\n",
      "3    David   40   80000                 80.0            50\n",
      "4   Edward   45   90000                 90.0            55\n"
     ]
    }
   ],
   "source": [
    "\"\"\"Creating New Columns:\n",
    " Create a new column Salary_in_thousands that contains the salary in thousands (i.e., divide the Salary by 1000).\n",
    " Create a new column Age_10_years that adds 10 years to each person's Age.\"\"\"\n",
    "\n",
    "data = {'Name': ['Alice', 'Bob', 'Charlie', 'David', 'Edward'],\n",
    "        'Age': [25, 30, 35, 40, 45],\n",
    "        'Salary': [50000, 60000, 70000, 80000, 90000]}\n",
    "df = pd.DataFrame(data)\n",
    "\n",
    "df['Salary_in_thousands'] = df['Salary'] / 1000\n",
    "df['Age_10_years'] = df['Age'] + 10\n",
    "print(df)"
   ]
  },
  {
   "cell_type": "code",
   "execution_count": 11,
   "id": "3d3231ec",
   "metadata": {},
   "outputs": [
    {
     "name": "stdout",
     "output_type": "stream",
     "text": [
      "Whole data frame:\n",
      "       Product  Price  Stock\n",
      "0      Laptop   1000     50\n",
      "1       Phone    500    100\n",
      "2      Tablet    300    200\n",
      "3  Headphones    150    150\n",
      "4     Charger     20    300\n",
      "Select product and price table:\n",
      "       Product  Price\n",
      "0      Laptop   1000\n",
      "1       Phone    500\n",
      "2      Tablet    300\n",
      "3  Headphones    150\n",
      "4     Charger     20\n"
     ]
    }
   ],
   "source": [
    "\"\"\"Create a DataFrame from a dictionary:\n",
    "  Display the entire DataFrame.\n",
    "  Select only the Product and Price columns.\"\"\"\n",
    "\n",
    "data = {\n",
    "    'Product': ['Laptop', 'Phone', 'Tablet', 'Headphones', 'Charger'],\n",
    "    'Price': [1000, 500, 300, 150, 20],\n",
    "    'Stock': [50, 100, 200, 150, 300]\n",
    "}\n",
    "\n",
    "df = pd.DataFrame(data)\n",
    "print(\"Whole data frame:\\n\", df)\n",
    "print(\"Select product and price table:\\n\",df[['Product', 'Price']])"
   ]
  },
  {
   "cell_type": "code",
   "execution_count": 13,
   "id": "8c381be3",
   "metadata": {},
   "outputs": [
    {
     "name": "stdout",
     "output_type": "stream",
     "text": [
      "Filtered rows where Age is less than 25:\n",
      "      Name  Age Country\n",
      "0     Tom   20     USA\n",
      "2  Mickey   22  Canada\n",
      "4   Goofy   24  Canada\n",
      "Filtered rows where Country is 'Canada':\n",
      "      Name  Age Country\n",
      "2  Mickey   22  Canada\n",
      "4   Goofy   24  Canada\n"
     ]
    }
   ],
   "source": [
    "\"\"\"Filtering Data Based on Conditions:\n",
    "Filter the rows where Age is less than 25.\n",
    "Filter the rows where Country is 'Canada'.\"\"\"\n",
    "\n",
    "data = {\n",
    "    'Name': ['Tom', 'Jerry', 'Mickey', 'Donald', 'Goofy'],\n",
    "    'Age': [20, 25, 22, 30, 24],\n",
    "    'Country': ['USA', 'USA', 'Canada', 'USA', 'Canada']\n",
    "}\n",
    "df = pd.DataFrame(data)\n",
    "\n",
    "filtered_aga = df[df['Age']<25]\n",
    "print(\"Filtered rows where Age is less than 25:\\n\", filtered_aga)\n",
    "\n",
    "filtered_row = df[df['Country'] == 'Canada']\n",
    "print(\"Filtered rows where Country is 'Canada':\\n\", filtered_row)"
   ]
  },
  {
   "cell_type": "code",
   "execution_count": 14,
   "id": "e421d4dd",
   "metadata": {},
   "outputs": [
    {
     "name": "stdout",
     "output_type": "stream",
     "text": [
      "DataFrame with Profit column:\n",
      "    Sales  Expenses  profit\n",
      "0    200       100     100\n",
      "1    450       200     250\n",
      "2    300       150     150\n",
      "3    600       350     250\n",
      "4    120        80      40\n"
     ]
    }
   ],
   "source": [
    "\"\"\"Simple Arithmetic Operations:\n",
    "Add a new column called Profit, which is the difference between Sales and Expenses.\n",
    "Calculate the total profit (sum of the Profit column).\"\"\"\n",
    "\n",
    "data = {\n",
    "    'Sales': [200, 450, 300, 600, 120],\n",
    "    'Expenses': [100, 200, 150, 350, 80]\n",
    "}\n",
    "\n",
    "df = pd.DataFrame(data)\n",
    "df['profit'] = df['Sales'] - df['Expenses']\n",
    "total_profit = df['profit'].sum()\n",
    "print(\"DataFrame with Profit column:\\n\", df)\n"
   ]
  },
  {
   "cell_type": "code",
   "execution_count": 15,
   "id": "86447b30",
   "metadata": {},
   "outputs": [
    {
     "name": "stdout",
     "output_type": "stream",
     "text": [
      "DataFrame with Total column:\n",
      "    Student  Math  English  Total\n",
      "0    Alice    85       88    173\n",
      "1      Bob    90       92    182\n",
      "2  Charlie    80       85    165\n",
      "3    David    95       96    191\n",
      "4      Eva    70       75    145\n",
      "DataFrame after removing English column:\n",
      "    Student  Math  Total\n",
      "0    Alice    85    173\n",
      "1      Bob    90    182\n",
      "2  Charlie    80    165\n",
      "3    David    95    191\n",
      "4      Eva    70    145\n"
     ]
    }
   ],
   "source": [
    "\"\"\" Adding and Removing Columns:\n",
    "Add a new column Total that is the sum of the Math and English columns.\n",
    "Remove the English column.\"\"\"\n",
    "\n",
    "data = {\n",
    "    'Student': ['Alice', 'Bob', 'Charlie', 'David', 'Eva'],\n",
    "    'Math': [85, 90, 80, 95, 70],\n",
    "    'English': [88, 92, 85, 96, 75]\n",
    "}\n",
    "\n",
    "df= pd.DataFrame(data)\n",
    "df['Total'] = df['Math'] + df['English']\n",
    "print(\"DataFrame with Total column:\\n\", df)\n",
    "df = df.drop(columns=['English'])\n",
    "print(\"DataFrame after removing English column:\\n\", df)"
   ]
  },
  {
   "cell_type": "code",
   "execution_count": 22,
   "id": "7c94fd57",
   "metadata": {},
   "outputs": [
    {
     "name": "stdout",
     "output_type": "stream",
     "text": [
      "Product with highest price: Pen at $1.5\n",
      "Product with lowest price: Eraser at $0.5\n"
     ]
    }
   ],
   "source": [
    "\"\"\"Find the Maximum and Minimum:\n",
    "Find the product with the highest price.\n",
    "Find the product with the lowest price.\"\"\"\n",
    "\n",
    "\n",
    "data = {\n",
    "    'Product': ['Pen', 'Pencil', 'Eraser', 'Sharpener', 'Ruler'],\n",
    "    'Price': [1.5, 0.8, 0.5, 1.2, 1.0]\n",
    "}\n",
    "\n",
    "df = pd.DataFrame(data)\n",
    "\n",
    "# Find the product with the highest price\n",
    "max_price = df.loc[df['Price'].idxmax()]\n",
    "print(f'Product with highest price: {max_price[\"Product\"]} at ${max_price[\"Price\"]}')\n",
    "\n",
    "# Find the product with the lowest price\n",
    "min_price = df.loc[df['Price'].idxmin()]\n",
    "print(f'Product with lowest price: {min_price[\"Product\"]} at ${min_price[\"Price\"]}')\n"
   ]
  },
  {
   "cell_type": "code",
   "execution_count": 17,
   "id": "6693afb3",
   "metadata": {},
   "outputs": [
    {
     "name": "stdout",
     "output_type": "stream",
     "text": [
      "DataFrame sorted by Score in descending order:\n",
      "      Name  Score\n",
      "4  Sophia     92\n",
      "1    Lily     90\n",
      "3   Emily     88\n",
      "0     Sam     85\n",
      "2    Jake     75\n",
      "DataFrame sorted by Name in alphabetical order:\n",
      "      Name  Score\n",
      "3   Emily     88\n",
      "2    Jake     75\n",
      "1    Lily     90\n",
      "0     Sam     85\n",
      "4  Sophia     92\n"
     ]
    }
   ],
   "source": [
    "\"\"\"Sort DataFrame:\n",
    "Sort the DataFrame by Score in descending order.\n",
    "Sort the DataFrame by Name in alphabetical order.\"\"\"\n",
    "\n",
    "\n",
    "data = {\n",
    "    'Name': ['Sam', 'Lily', 'Jake', 'Emily', 'Sophia'],\n",
    "    'Score': [85, 90, 75, 88, 92]\n",
    "}\n",
    "df = pd.DataFrame(data)\n",
    "df_sorted_score = df.sort_values(by='Score', ascending=False)\n",
    "print(\"DataFrame sorted by Score in descending order:\\n\", df_sorted_score)\n",
    "df_sorted_name = df.sort_values(by='Name')\n",
    "print(\"DataFrame sorted by Name in alphabetical order:\\n\", df_sorted_name)"
   ]
  },
  {
   "cell_type": "code",
   "execution_count": 18,
   "id": "5f7f5178",
   "metadata": {},
   "outputs": [
    {
     "name": "stdout",
     "output_type": "stream",
     "text": [
      "DataFrame with renamed columns:\n",
      "    Employee_ID Employee_Name  Salary\n",
      "0            1          John    5000\n",
      "1            2          Jane    6000\n",
      "2            3          Paul    5500\n",
      "3            4          Anna    7000\n"
     ]
    }
   ],
   "source": [
    "\"\"\"Renaming Columns:\n",
    "Rename the column Emp_ID to Employee_ID and Emp_Name to Employee_Name.\n",
    "Display the DataFrame with the new column names.\"\"\"\n",
    "\n",
    "data = {\n",
    "    'Emp_ID': [1, 2, 3, 4],\n",
    "    'Emp_Name': ['John', 'Jane', 'Paul', 'Anna'],\n",
    "    'Salary': [5000, 6000, 5500, 7000]\n",
    "}\n",
    "df = pd.DataFrame(data)\n",
    "renamed_columns = df.rename(columns={'Emp_ID': 'Employee_ID', 'Emp_Name': 'Employee_Name'})\n",
    "print(\"DataFrame with renamed columns:\\n\", renamed_columns)"
   ]
  },
  {
   "cell_type": "code",
   "execution_count": 19,
   "id": "9b6dd339",
   "metadata": {},
   "outputs": [
    {
     "name": "stdout",
     "output_type": "stream",
     "text": [
      "DataFrame with Year and Month columns:\n",
      "         Date  Sales  Year  Month\n",
      "0 2023-01-01    200  2023      1\n",
      "1 2023-02-01    300  2023      2\n",
      "2 2023-03-01    250  2023      3\n",
      "3 2023-04-01    400  2023      4\n",
      "4 2023-05-01    350  2023      5\n"
     ]
    }
   ],
   "source": [
    "\"\"\"Working with Date Columns:\n",
    "Convert the Date column to datetime format.\n",
    "Extract the year and month from the Date column and create new columns Year and Month.\"\"\"\n",
    "\n",
    "data = {\n",
    "    'Date': ['2023-01-01', '2023-02-01', '2023-03-01', '2023-04-01', '2023-05-01'],\n",
    "    'Sales': [200, 300, 250, 400, 350]\n",
    "}\n",
    "df = pd.DataFrame(data)\n",
    "df['Date'] = pd.to_datetime(df['Date'])\n",
    "df['Year'] = df['Date'].dt.year\n",
    "df['Month'] = df['Date'].dt.month\n",
    "print(\"DataFrame with Year and Month columns:\\n\", df)"
   ]
  },
  {
   "cell_type": "code",
   "execution_count": 23,
   "id": "2f207a1e",
   "metadata": {},
   "outputs": [
    {
     "name": "stdout",
     "output_type": "stream",
     "text": [
      "Name\n",
      "Tom       2\n",
      "Jerry     2\n",
      "Mickey    1\n",
      "Donald    1\n",
      "Goofy     1\n",
      "Name: count, dtype: int64\n",
      "Age\n",
      "20    2\n",
      "25    2\n",
      "22    1\n",
      "30    1\n",
      "24    1\n",
      "Name: count, dtype: int64\n"
     ]
    }
   ],
   "source": [
    "\"\"\"Value Counts:\n",
    "Count how many times each Name appears in the Name column.\n",
    "Count how many times each Age appears in the Age column.\"\"\"\n",
    "\n",
    "data = {\n",
    "    'Name': ['Tom', 'Jerry', 'Mickey', 'Donald', 'Goofy', 'Tom', 'Jerry'],\n",
    "    'Age': [20, 25, 22, 30, 24, 20, 25]\n",
    "}\n",
    "\n",
    "df = pd.DataFrame(data)\n",
    "Count_name = df['Name'].value_counts()\n",
    "print(Count_name)\n",
    "\n",
    "Count_age = df['Age'].value_counts()\n",
    "print(Count_age)"
   ]
  },
  {
   "cell_type": "code",
   "execution_count": null,
   "id": "cf631cd2",
   "metadata": {},
   "outputs": [],
   "source": []
  }
 ],
 "metadata": {
  "kernelspec": {
   "display_name": ".venv",
   "language": "python",
   "name": "python3"
  },
  "language_info": {
   "codemirror_mode": {
    "name": "ipython",
    "version": 3
   },
   "file_extension": ".py",
   "mimetype": "text/x-python",
   "name": "python",
   "nbconvert_exporter": "python",
   "pygments_lexer": "ipython3",
   "version": "3.13.3"
  }
 },
 "nbformat": 4,
 "nbformat_minor": 5
}
